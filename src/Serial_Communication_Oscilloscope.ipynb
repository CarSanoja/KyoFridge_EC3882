{
 "cells": [
  {
   "cell_type": "code",
   "execution_count": 14,
   "metadata": {
    "collapsed": true
   },
   "outputs": [],
   "source": [
    "#The libraries we are going to use are PySerial and Time\n",
    "# PySerial is encapsulates the access for the serial port.\n",
    "# \n",
    "import serial\n",
    "import time\n",
    "# script that allow to set the graphs for the signal\n",
    "#from graph import *\n",
    "# Matplotlib to draw functions\n",
    "import matplotlib.pyplot as plt\n",
    "# To allow make live data graph we need drawnow\n",
    "# pip install drawnow\n",
    "from drawnow import *"
   ]
  },
  {
   "cell_type": "code",
   "execution_count": 15,
   "metadata": {},
   "outputs": [
    {
     "name": "stdout",
     "output_type": "stream",
     "text": [
      "True\n"
     ]
    }
   ],
   "source": [
    "# Opening a Serial port\n",
    "\n",
    "# - The port is immediately opened on object creation, when a port is given. It is not opened when\n",
    "# port is None and a successive call to open() is required. port is a device name: depending on \n",
    "# operating system. e.g. /dev/ttyUSB0 on GNU/Linux or COM3 on Windows.\n",
    "# - The parameter baudrate can be one of the standard values:  50, 75, 110, 134, 150, 200, 300, 600, 1200,\n",
    "# 1800, 2400, 4800, 9600, 19200, 38400, 57600, 115200. These are well supported on all platforms.\n",
    "# - Standard values above 115200, such as:  230400, 460800, 500000, 576000, 921600, 1000000, 1152000,\n",
    "# 1500000, 2000000, 2500000, 3000000, 3500000, 4000000 also work on many platforms and devices.\n",
    "# Non-standard values are also supported on some platforms (GNU/Linux, MAC OSX >= Tiger, Windows).\n",
    "# - Possible values for the parameter timeout which controls the behavior of read():\n",
    "# .. timeout = None: wait forever until requested number of bytes are received\n",
    "# .. timeout = 0:  non-blocking mode, return immediately in any case, returning zero or more, up to\n",
    "# the requested number of bytes\n",
    "# .. timeout = x:  set timeout to x seconds (float allowed) returns immediately when the requested\n",
    "# number of bytes are available, otherwise wait until the timeout expires and return all bytes that were\n",
    "# received until then.\n",
    "DEMOQE_read = serial.Serial('/dev/ttyUSB1',115200,timeout=1);\n",
    "print(DEMOQE_read.isOpen())"
   ]
  },
  {
   "cell_type": "code",
   "execution_count": 16,
   "metadata": {
    "collapsed": true
   },
   "outputs": [],
   "source": [
    "# Set the matplotlib parameters, initializing\n",
    "plt.ion() # Modo interactivo de matplotlib\n",
    "input_signal = [] #Entrada al graficador "
   ]
  },
  {
   "cell_type": "code",
   "execution_count": 17,
   "metadata": {},
   "outputs": [
    {
     "ename": "SyntaxError",
     "evalue": "unexpected EOF while parsing (<ipython-input-17-66965df8fb8f>, line 7)",
     "output_type": "error",
     "traceback": [
      "\u001b[0;36m  File \u001b[0;32m\"<ipython-input-17-66965df8fb8f>\"\u001b[0;36m, line \u001b[0;32m7\u001b[0m\n\u001b[0;31m    # Conditional to check if we have data to receive\u001b[0m\n\u001b[0m                                                     ^\u001b[0m\n\u001b[0;31mSyntaxError\u001b[0m\u001b[0;31m:\u001b[0m unexpected EOF while parsing\n"
     ]
    }
   ],
   "source": [
    "while True:\n",
    "    try:\n",
    "# To find the Serial port direction we can get the name typing python in the terminal:\n",
    "# $ python -m serial.tools.list_ports -v\n",
    "# NOTE: The microcontroller must be connected\n",
    "        while (DEMOQE_read.inWaiting()==0):\n",
    "            print(\"No data in port\")\n",
    "            pass\n",
    "        \n",
    "\n",
    "# Conditional to check if we have data to receive\n",
    "    \n",
    "    except:\n",
    "        print(\"Keyboard interrupt\")\n",
    "        break"
   ]
  },
  {
   "cell_type": "code",
   "execution_count": null,
   "metadata": {
    "collapsed": true
   },
   "outputs": [],
   "source": [
    "\t\twhile (DEMOQE_read.inWaiting()==0):\n",
    "\t\t\tprint(\"no data\") #Wait here until there is data\n",
    "\t\t\tpass\n",
    "# El motivo de utilizar sleep desde es que desde que se crea el objeto Serial hasta que esta disponible\n",
    "# para ser usado, se necesita un cierto tiempo para abrir el puerto serie. Por tanto, se introduce \n",
    "# una espera mediante la funcion Sleep, que pertenece a la libreria time\n",
    "\t\t#time.sleep(1)\n",
    "\t\t#print(\"voy a leer\")\n",
    "## .readline() help us to read the line sended from the microcontroller.\n",
    "\t\tdata_input = DEMOQE_read.read(12)\n",
    "\t\t#print(type(data_input))\n",
    "\t\tprint(int(data_input[0]))\n",
    "\t\t#print(data_input)\n",
    "\t\t#input_value = DEMOQE_read.readline()\n",
    "\t\t\n",
    "# print() muestra la linea en la pantalla\n",
    "\t\t#print(input_value)\n",
    "# We need float numbers \n",
    "\t\t#input_signal.append(float(input_value))\n",
    "# To close the serial port we introced .close() for the class\n",
    "\t\t#DEMOQE_read.close()\n"
   ]
  }
 ],
 "metadata": {
  "kernelspec": {
   "display_name": "Python 3",
   "language": "python",
   "name": "python3"
  },
  "language_info": {
   "codemirror_mode": {
    "name": "ipython",
    "version": 3
   },
   "file_extension": ".py",
   "mimetype": "text/x-python",
   "name": "python",
   "nbconvert_exporter": "python",
   "pygments_lexer": "ipython3",
   "version": "3.5.2"
  }
 },
 "nbformat": 4,
 "nbformat_minor": 2
}
