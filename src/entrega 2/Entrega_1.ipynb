{
 "cells": [
  {
   "cell_type": "code",
   "execution_count": 121,
   "metadata": {
    "collapsed": true
   },
   "outputs": [],
   "source": [
    "%matplotlib inline\n",
    "#The libraries we are going to use are PySerial and Time\n",
    "# PySerial is encapsulates the access for the serial port.\n",
    "import serial\n",
    "import time\n",
    "import os\n",
    "import matplotlib.pyplot as plt"
   ]
  },
  {
   "cell_type": "code",
   "execution_count": 122,
   "metadata": {},
   "outputs": [
    {
     "name": "stdout",
     "output_type": "stream",
     "text": [
      "True\n"
     ]
    }
   ],
   "source": [
    "# Opening a Serial port\n",
    "\n",
    "# - The port is immediately opened on object creation, when a port is given. It is not opened when\n",
    "# port is None and a successive call to open() is required. port is a device name: depending on \n",
    "# operating system. e.g. /dev/ttyUSB0 on GNU/Linux or COM3 on Windows.\n",
    "# - The parameter baudrate can be one of the standard values:  50, 75, 110, 134, 150, 200, 300, 600, 1200,\n",
    "# 1800, 2400, 4800, 9600, 19200, 38400, 57600, 115200. These are well supported on all platforms.\n",
    "# - Standard values above 115200, such as:  230400, 460800, 500000, 576000, 921600, 1000000, 1152000,\n",
    "# 1500000, 2000000, 2500000, 3000000, 3500000, 4000000 also work on many platforms and devices.\n",
    "# Non-standard values are also supported on some platforms (GNU/Linux, MAC OSX >= Tiger, Windows).\n",
    "# - Possible values for the parameter timeout which controls the behavior of read():\n",
    "# .. timeout = None: wait forever until requested number of bytes are received\n",
    "# .. timeout = 0:  non-blocking mode, return immediately in any case, returning zero or more, up to\n",
    "# the requested number of bytes\n",
    "# .. timeout = x:  set timeout to x seconds (float allowed) returns immediately when the requested\n",
    "# number of bytes are available, otherwise wait until the timeout expires and return all bytes that were\n",
    "# received until then.\n",
    "DEMOQE_read = serial.Serial('/dev/ttyUSB0',115200);\n",
    "print(DEMOQE_read.isOpen())"
   ]
  },
  {
   "cell_type": "code",
   "execution_count": 123,
   "metadata": {},
   "outputs": [],
   "source": [
    "# VARIABLES para almacenar los valores de los sensores en el tiempo\n",
    "#digital_1 = []\n",
    "#digital_2 = []\n",
    "signal = {'analogico_1': [],'analogico_2': [],'digital_1': [],'digital_2': []}\n",
    "#analogico_1 = []\n",
    "signal[\"analogico_1\"].append(0)\n",
    "signal[\"analogico_1\"].append(0)\n",
    "#analogico_2 = []\n",
    "# Constantes de manipulacion para el main\n",
    "flag_first_run = 0\n",
    "flag_trama_len_cst = 0\n",
    "list_pos_trama = []\n",
    "i = 0\n",
    "j = 0\n",
    "data_list = []\n",
    "#os.remove(\"Generator_data.txt\")\n",
    "file = open(\"Generator_data.txt\",\"w\")\n",
    "file.write(\"0\")\n",
    "file.close()"
   ]
  },
  {
   "cell_type": "code",
   "execution_count": 124,
   "metadata": {
    "collapsed": true
   },
   "outputs": [],
   "source": [
    "#Hex to binary\n",
    "def dec_to_bin(dec):\n",
    "    dec_str = str(int(dec))\n",
    "    cod_bin = bin(int(dec_str))\n",
    "    return cod_bin"
   ]
  },
  {
   "cell_type": "code",
   "execution_count": 125,
   "metadata": {
    "collapsed": true
   },
   "outputs": [],
   "source": [
    "#Binary to decimal\n",
    "def bin_to_dec(bina):\n",
    "    cod_dec = int(str(bina),2)\n",
    "    return cod_dec"
   ]
  },
  {
   "cell_type": "code",
   "execution_count": 126,
   "metadata": {
    "collapsed": true
   },
   "outputs": [],
   "source": [
    "# This function make possible to split an integer number to separate the information we want.\n",
    "# First we have to translate the hexa code to binary. Second we save every bit following the\n",
    "# protocol order:\n",
    "# 0 D1 D2 A11 A10 A9 A8 A7\n",
    "def decode_channel1_one(number):\n",
    "    #decode Channel one\n",
    "    part_one_bin = dec_to_bin(number)\n",
    "    len_bit_number = len(part_one_bin) -2\n",
    "    diferencia = 8 - len_bit_number\n",
    "    cero_faltante = \"0\"*diferencia\n",
    "    part_one_bin_comp = (cero_faltante + str(part_one_bin[2:]))\n",
    "    digital_one = part_one_bin_comp[1]\n",
    "    digital_two = part_one_bin_comp[2]\n",
    "    analogic_most_significant = part_one_bin_comp[3:]\n",
    "    return digital_one,digital_two,str(analogic_most_significant)"
   ]
  },
  {
   "cell_type": "code",
   "execution_count": 127,
   "metadata": {
    "collapsed": true
   },
   "outputs": [],
   "source": [
    "# This function make possible to split an integer number to separate the information we want.\n",
    "# First we have to translate the hexa code to binary. Second we save every bit following the\n",
    "# protocol order:\n",
    "# 0 A6 A5 A4 A3 A2 A1 A0\n",
    "def decode_channel12_two(number):\n",
    "    #decode channe one and two for less significant bits\n",
    "    part_one_bin = dec_to_bin(number)\n",
    "    len_bit_number = len(part_one_bin) -2\n",
    "    diferencia = 8 - len_bit_number\n",
    "    cero_faltante = \"0\"*diferencia\n",
    "    part_one_bin_comp = (cero_faltante + str(part_one_bin[2:]))\n",
    "    analogic_less_significant = part_one_bin_comp[1:]\n",
    "    return str(analogic_less_significant)"
   ]
  },
  {
   "cell_type": "code",
   "execution_count": 128,
   "metadata": {
    "collapsed": true
   },
   "outputs": [],
   "source": [
    "# This function make possible to split an integer number to separate the information we want.\n",
    "# First we have to translate the hexa code to binary. Second we save every bit following the\n",
    "# protocol order:\n",
    "# 0 0 0 A11 A10 A9 A8 A7\n",
    "def decode_channel2_one(number):\n",
    "    # decode channel two for most significant bits\n",
    "    part_one_bin = dec_to_bin(number)\n",
    "    len_bit_number = len(part_one_bin) -2\n",
    "    diferencia = 8 - len_bit_number\n",
    "    cero_faltante = \"0\"*diferencia\n",
    "    part_one_bin_comp = (cero_faltante + str(part_one_bin[2:]))\n",
    "    analogic_most_significant = part_one_bin_comp[3:]\n",
    "    \n",
    "    return str(analogic_most_significant)"
   ]
  },
  {
   "cell_type": "code",
   "execution_count": 129,
   "metadata": {
    "collapsed": true
   },
   "outputs": [],
   "source": [
    "# We need to concatened the entirely analogic information.\n",
    "def concatenation(string1,string2):\n",
    "    return bin_to_dec(int(string1 + str(string2)))"
   ]
  },
  {
   "cell_type": "code",
   "execution_count": 130,
   "metadata": {
    "scrolled": true
   },
   "outputs": [],
   "source": [
    "def stream(flag_encabezado = 0):\n",
    "    #file = open(\"Generator_data.txt\",\"a\")\n",
    "    \n",
    "    DEMOQE_read.flush()\n",
    "    data_input_2 = DEMOQE_read.read(5)\n",
    "    while True:\n",
    "        enc_posi = data_input_2.find(245)\n",
    "        if enc_posi!=0:\n",
    "            data_input_2 = data_input_2[enc_posi:]\n",
    "            data_input_3 = DEMOQE_read.read(enc_posi)\n",
    "            data_input = data_input_2 + data_input_3\n",
    "        else:\n",
    "            data_input = data_input_2\n",
    "\n",
    "        for datop in data_input_2:\n",
    "            if datop==245:\n",
    "                flag_encabezado+=1\n",
    "        if flag_encabezado>1:\n",
    "            flag_encabezado=0\n",
    "            data_input_2 =  b'\\x00' + data_input_2[1:]\n",
    "        else:\n",
    "            break\n",
    "    \n",
    "    data_list.append(data_input)\n",
    "    posic_data_input = len(data_list)-1\n",
    "    #data_input = data_list[posic_data_input]\n",
    "\n",
    "    #Codigo \n",
    "    list_pos_trama = []\n",
    "    enc_posi = data_input.find(245)\n",
    "    \n",
    "    # Chequeo de encabezado en la primera casilla\n",
    "    if enc_posi==0:\n",
    "        flag_first_run=0\n",
    "    # Longitud de la trama\n",
    "    trama_length = len(data_input)\n",
    "    if trama_length!=5:\n",
    "        pass\n",
    "    # Cantidad de posiciones de los dos canales, deberia ser 4 siempre\n",
    "    posiciones = trama_length - enc_posi -1\n",
    "    # Tomo las posiciones\n",
    "    for pos in range(posiciones):\n",
    "        list_pos_trama.append(enc_posi +pos+1)\n",
    "    for pos_dato_trama in list_pos_trama:\n",
    "        # Se analiza el CH1 trama[1]\n",
    "        if (pos_dato_trama == enc_posi +1):\n",
    "            # Se decodifica y se transforman los bits en significado analogico y digital\n",
    "            digital_one,digital_two,analogic_m_b = decode_channel1_one(data_input[pos_dato_trama])\n",
    "            # Se agregan a sus respectivas listas dentro del diccionario\n",
    "            signal[\"digital_1\"].append(digital_one)\n",
    "            signal[\"digital_2\"].append(digital_two)\n",
    "            auxiliar = analogic_m_b\n",
    "         # Se analiza el CH1 trama[2]\n",
    "        elif (pos_dato_trama == enc_posi + 2):\n",
    "            # Se decodifica y se transforman los bits en significado analogico\n",
    "            analogic_l_b = decode_channel12_two(data_input[pos_dato_trama])\n",
    "            # se concatena para obtener toda la informacion del analogico\n",
    "            signal[\"analogico_1\"].append(concatenation(auxiliar,analogic_l_b))\n",
    "        # Se analiza el CH2 trama[3]\n",
    "        elif (pos_dato_trama == enc_posi + 3):\n",
    "            # Se decodifica y se transforman los bits en significado analogico y digital\n",
    "            analogic_m_b = decode_channel2_one(data_input[pos_dato_trama])\n",
    "            auxiliar2 = analogic_m_b\n",
    "        # Se analiza el CH2 trama[4]\n",
    "        elif (pos_dato_trama == enc_posi + 4):\n",
    "            # Se decodifica y se transforman los bits en significado analogico\n",
    "            analogic_l_b = decode_channel12_two(data_input[pos_dato_trama])\n",
    "            # se concatena para obtener toda la informacion del analogico\n",
    "            signal[\"analogico_2\"].append(concatenation(auxiliar2,analogic_l_b))\n",
    "        else:\n",
    "            print(\"Encabezado fuera de posicion, peligro!!\")\n",
    "            break\n",
    "  \n",
    "    #file.write(str(analogico_1[len(analogico_1)-1])+\"\\n\")"
   ]
  },
  {
   "cell_type": "code",
   "execution_count": 131,
   "metadata": {},
   "outputs": [],
   "source": [
    "from matplotlib.lines import Line2D\n",
    "import matplotlib.pyplot as plt\n",
    "import matplotlib.animation as animation\n",
    "\n",
    "def nothing():\n",
    "    pass \n",
    "\n",
    "class Scope(object):\n",
    "    def __init__(self, ax, maxt=0.5, dt=0.001):\n",
    "        self.ax = ax\n",
    "        self.dt = dt\n",
    "        self.maxt = maxt\n",
    "        self.tdata = [0]\n",
    "        self.ydata = [0]\n",
    "        self.line = Line2D(self.tdata, self.ydata)\n",
    "        self.ax.add_line(self.line)\n",
    "        self.ax.set_ylim(0, 2)\n",
    "        self.ax.set_xlim(0, self.maxt)\n",
    "        self.len_ana1_aux = 1\n",
    "        self.Amplitude = 1\n",
    "    def update(self, i):\n",
    "        lastt = self.tdata[-1]\n",
    "        datos_analogico_1 = signal[\"analogico_1\"]\n",
    "        #print(datos_analogico_1)\n",
    "        self.len_ana1_aux = len(datos_analogico_1)\n",
    "        file2 = open(\"time_base_data.txt\",\"r\")\n",
    "        t2_read = float(file2.read())\n",
    "        file3 = open(\"amplitud_data.txt\",\"r\")\n",
    "        self.Amplitude = float(file3.read())\n",
    "        self.maxt = t2_read\n",
    "        self.ax.set_xlim(self.tdata[0], self.tdata[0] + self.maxt)\n",
    "        if lastt > self.tdata[0] + self.maxt:  # reset the arrays\n",
    "            self.tdata = [self.tdata[-1]]\n",
    "            self.ydata = [self.ydata[-1]]\n",
    "            self.ax.set_xlim(self.tdata[0], self.tdata[0] + self.maxt)\n",
    "            self.ax.figure.canvas.draw()\n",
    "        t = self.tdata[-1] + self.dt\n",
    "        self.tdata.append(t)\n",
    "        y = (float(datos_analogico_1[i-1])*3/4095)*self.Amplitude\n",
    "        self.ydata.append(y)\n",
    "        print(self.ydata)\n",
    "        self.ax.set_ylim(0, 2)\n",
    "        self.line.set_data(self.tdata, self.ydata)\n",
    "        signal[\"analogico_1\"] = []\n",
    "        file.close()\n",
    "        file2.close()\n",
    "        return self.line,\n",
    "\n",
    "def emitter():\n",
    "    i = 0\n",
    "    while i <= scope.len_ana1_aux:\n",
    "        i += 1\n",
    "        yield i"
   ]
  },
  {
   "cell_type": "code",
   "execution_count": 132,
   "metadata": {},
   "outputs": [
    {
     "name": "stdout",
     "output_type": "stream",
     "text": [
      "[0, 0.0]\n"
     ]
    },
    {
     "data": {
      "image/png": "[encoded data removed]",
      "text/plain": [
       "<Figure size 432x288 with 1 Axes>"
      ]
     },
     "metadata": {},
     "output_type": "display_data"
    },
    {
     "name": "stdout",
     "output_type": "stream",
     "text": [
      "[0, 0.3304029304029304]\n"
     ]
    },
    {
     "data": {
      "image/png": "[encoded data removed]",
      "text/plain": [
       "<Figure size 432x288 with 1 Axes>"
      ]
     },
     "metadata": {},
     "output_type": "display_data"
    },
    {
     "name": "stdout",
     "output_type": "stream",
     "text": [
      "[0, 1.2175824175824175]\n"
     ]
    },
    {
     "data": {
      "image/png": "[encoded data removed]",
      "text/plain": [
       "<Figure size 432x288 with 1 Axes>"
      ]
     },
     "metadata": {},
     "output_type": "display_data"
    },
    {
     "name": "stdout",
     "output_type": "stream",
     "text": [
      "[0, 0.18754578754578755]\n"
     ]
    },
    {
     "data": {
      "image/png": "[encoded data removed]",
      "text/plain": [
       "<Figure size 432x288 with 1 Axes>"
      ]
     },
     "metadata": {},
     "output_type": "display_data"
    },
    {
     "name": "stderr",
     "output_type": "stream",
     "text": [
      "Traceback (most recent call last):\n",
      "  File \"/usr/local/lib/python3.5/dist-packages/matplotlib/cbook/__init__.py\", line 388, in process\n",
      "    proxy(*args, **kwargs)\n",
      "  File \"/usr/local/lib/python3.5/dist-packages/matplotlib/cbook/__init__.py\", line 228, in __call__\n",
      "    return mtd(*args, **kwargs)\n",
      "  File \"/usr/local/lib/python3.5/dist-packages/matplotlib/animation.py\", line 1026, in _start\n",
      "    self._init_draw()\n",
      "  File \"/usr/local/lib/python3.5/dist-packages/matplotlib/animation.py\", line 1750, in _init_draw\n",
      "    self._draw_frame(next(self.new_frame_seq()))\n",
      "  File \"/usr/local/lib/python3.5/dist-packages/matplotlib/animation.py\", line 1772, in _draw_frame\n",
      "    self._drawn_artists = self._func(framedata, *self._args)\n",
      "  File \"<ipython-input-131-0cf19a22171a>\", line 39, in update\n",
      "    y = (float(datos_analogico_1[i-1])*3/4095)*self.Amplitude\n",
      "IndexError: list index out of range\n"
     ]
    },
    {
     "data": {
      "image/png": "[encoded data removed]",
      "text/plain": [
       "<Figure size 432x288 with 1 Axes>"
      ]
     },
     "metadata": {},
     "output_type": "display_data"
    },
    {
     "name": "stdout",
     "output_type": "stream",
     "text": [
      "[0, 1.1505494505494505]\n"
     ]
    },
    {
     "data": {
      "image/png": "[encoded data removed]",
      "text/plain": [
       "<Figure size 432x288 with 1 Axes>"
      ]
     },
     "metadata": {},
     "output_type": "display_data"
    },
    {
     "name": "stdout",
     "output_type": "stream",
     "text": [
      "[0, 0.2600732600732601]\n"
     ]
    },
    {
     "ename": "KeyboardInterrupt",
     "evalue": "",
     "output_type": "error",
     "traceback": [
      "\u001b[0;31m---------------------------------------------------------------------------\u001b[0m",
      "\u001b[0;31mKeyboardInterrupt\u001b[0m                         Traceback (most recent call last)",
      "\u001b[0;32m<ipython-input-132-ff3976293b17>\u001b[0m in \u001b[0;36m<module>\u001b[0;34m()\u001b[0m\n\u001b[1;32m      7\u001b[0m     \u001b[0mplt\u001b[0m\u001b[0;34m.\u001b[0m\u001b[0mgrid\u001b[0m\u001b[0;34m(\u001b[0m\u001b[0;34m)\u001b[0m\u001b[0;34m\u001b[0m\u001b[0m\n\u001b[1;32m      8\u001b[0m     \u001b[0mplt\u001b[0m\u001b[0;34m.\u001b[0m\u001b[0mdraw\u001b[0m\u001b[0;34m(\u001b[0m\u001b[0;34m)\u001b[0m\u001b[0;34m\u001b[0m\u001b[0m\n\u001b[0;32m----> 9\u001b[0;31m     \u001b[0mplt\u001b[0m\u001b[0;34m.\u001b[0m\u001b[0mshow\u001b[0m\u001b[0;34m(\u001b[0m\u001b[0mblock\u001b[0m \u001b[0;34m=\u001b[0m \u001b[0;32mFalse\u001b[0m\u001b[0;34m)\u001b[0m\u001b[0;34m\u001b[0m\u001b[0m\n\u001b[0m\u001b[1;32m     10\u001b[0m     \u001b[0mDEMOQE_read\u001b[0m\u001b[0;34m.\u001b[0m\u001b[0mclose\u001b[0m\u001b[0;34m(\u001b[0m\u001b[0;34m)\u001b[0m\u001b[0;34m\u001b[0m\u001b[0m\n",
      "\u001b[0;32m/usr/local/lib/python3.5/dist-packages/matplotlib/pyplot.py\u001b[0m in \u001b[0;36mshow\u001b[0;34m(*args, **kw)\u001b[0m\n\u001b[1;32m    251\u001b[0m     \"\"\"\n\u001b[1;32m    252\u001b[0m     \u001b[0;32mglobal\u001b[0m \u001b[0m_show\u001b[0m\u001b[0;34m\u001b[0m\u001b[0m\n\u001b[0;32m--> 253\u001b[0;31m     \u001b[0;32mreturn\u001b[0m \u001b[0m_show\u001b[0m\u001b[0;34m(\u001b[0m\u001b[0;34m*\u001b[0m\u001b[0margs\u001b[0m\u001b[0;34m,\u001b[0m \u001b[0;34m**\u001b[0m\u001b[0mkw\u001b[0m\u001b[0;34m)\u001b[0m\u001b[0;34m\u001b[0m\u001b[0m\n\u001b[0m\u001b[1;32m    254\u001b[0m \u001b[0;34m\u001b[0m\u001b[0m\n\u001b[1;32m    255\u001b[0m \u001b[0;34m\u001b[0m\u001b[0m\n",
      "\u001b[0;32m/usr/local/lib/python3.5/dist-packages/ipykernel/pylab/backend_inline.py\u001b[0m in \u001b[0;36mshow\u001b[0;34m(close, block)\u001b[0m\n\u001b[1;32m     34\u001b[0m     \u001b[0;32mtry\u001b[0m\u001b[0;34m:\u001b[0m\u001b[0;34m\u001b[0m\u001b[0m\n\u001b[1;32m     35\u001b[0m         \u001b[0;32mfor\u001b[0m \u001b[0mfigure_manager\u001b[0m \u001b[0;32min\u001b[0m \u001b[0mGcf\u001b[0m\u001b[0;34m.\u001b[0m\u001b[0mget_all_fig_managers\u001b[0m\u001b[0;34m(\u001b[0m\u001b[0;34m)\u001b[0m\u001b[0;34m:\u001b[0m\u001b[0;34m\u001b[0m\u001b[0m\n\u001b[0;32m---> 36\u001b[0;31m             \u001b[0mdisplay\u001b[0m\u001b[0;34m(\u001b[0m\u001b[0mfigure_manager\u001b[0m\u001b[0;34m.\u001b[0m\u001b[0mcanvas\u001b[0m\u001b[0;34m.\u001b[0m\u001b[0mfigure\u001b[0m\u001b[0;34m)\u001b[0m\u001b[0;34m\u001b[0m\u001b[0m\n\u001b[0m\u001b[1;32m     37\u001b[0m     \u001b[0;32mfinally\u001b[0m\u001b[0;34m:\u001b[0m\u001b[0;34m\u001b[0m\u001b[0m\n\u001b[1;32m     38\u001b[0m         \u001b[0mshow\u001b[0m\u001b[0;34m.\u001b[0m\u001b[0m_to_draw\u001b[0m \u001b[0;34m=\u001b[0m \u001b[0;34m[\u001b[0m\u001b[0;34m]\u001b[0m\u001b[0;34m\u001b[0m\u001b[0m\n",
      "\u001b[0;32m/usr/local/lib/python3.5/dist-packages/IPython/core/display.py\u001b[0m in \u001b[0;36mdisplay\u001b[0;34m(include, exclude, metadata, transient, display_id, *objs, **kwargs)\u001b[0m\n\u001b[1;32m    307\u001b[0m                 \u001b[0;31m# kwarg-specified metadata gets precedence\u001b[0m\u001b[0;34m\u001b[0m\u001b[0;34m\u001b[0m\u001b[0m\n\u001b[1;32m    308\u001b[0m                 \u001b[0m_merge\u001b[0m\u001b[0;34m(\u001b[0m\u001b[0mmd_dict\u001b[0m\u001b[0;34m,\u001b[0m \u001b[0mmetadata\u001b[0m\u001b[0;34m)\u001b[0m\u001b[0;34m\u001b[0m\u001b[0m\n\u001b[0;32m--> 309\u001b[0;31m             \u001b[0mpublish_display_data\u001b[0m\u001b[0;34m(\u001b[0m\u001b[0mdata\u001b[0m\u001b[0;34m=\u001b[0m\u001b[0mformat_dict\u001b[0m\u001b[0;34m,\u001b[0m \u001b[0mmetadata\u001b[0m\u001b[0;34m=\u001b[0m\u001b[0mmd_dict\u001b[0m\u001b[0;34m,\u001b[0m \u001b[0;34m**\u001b[0m\u001b[0mkwargs\u001b[0m\u001b[0;34m)\u001b[0m\u001b[0;34m\u001b[0m\u001b[0m\n\u001b[0m\u001b[1;32m    310\u001b[0m     \u001b[0;32mif\u001b[0m \u001b[0mdisplay_id\u001b[0m\u001b[0;34m:\u001b[0m\u001b[0;34m\u001b[0m\u001b[0m\n\u001b[1;32m    311\u001b[0m         \u001b[0;32mreturn\u001b[0m \u001b[0mDisplayHandle\u001b[0m\u001b[0;34m(\u001b[0m\u001b[0mdisplay_id\u001b[0m\u001b[0;34m)\u001b[0m\u001b[0;34m\u001b[0m\u001b[0m\n",
      "\u001b[0;32m/usr/local/lib/python3.5/dist-packages/IPython/core/display.py\u001b[0m in \u001b[0;36mpublish_display_data\u001b[0;34m(data, metadata, source, transient, **kwargs)\u001b[0m\n\u001b[1;32m    131\u001b[0m         \u001b[0mdata\u001b[0m\u001b[0;34m=\u001b[0m\u001b[0mdata\u001b[0m\u001b[0;34m,\u001b[0m\u001b[0;34m\u001b[0m\u001b[0m\n\u001b[1;32m    132\u001b[0m         \u001b[0mmetadata\u001b[0m\u001b[0;34m=\u001b[0m\u001b[0mmetadata\u001b[0m\u001b[0;34m,\u001b[0m\u001b[0;34m\u001b[0m\u001b[0m\n\u001b[0;32m--> 133\u001b[0;31m         \u001b[0;34m**\u001b[0m\u001b[0mkwargs\u001b[0m\u001b[0;34m\u001b[0m\u001b[0m\n\u001b[0m\u001b[1;32m    134\u001b[0m     )\n\u001b[1;32m    135\u001b[0m \u001b[0;34m\u001b[0m\u001b[0m\n",
      "\u001b[0;32m/usr/local/lib/python3.5/dist-packages/ipykernel/zmqshell.py\u001b[0m in \u001b[0;36mpublish\u001b[0;34m(self, data, metadata, source, transient, update)\u001b[0m\n\u001b[1;32m    140\u001b[0m \u001b[0;34m\u001b[0m\u001b[0m\n\u001b[1;32m    141\u001b[0m         self.session.send(\n\u001b[0;32m--> 142\u001b[0;31m             \u001b[0mself\u001b[0m\u001b[0;34m.\u001b[0m\u001b[0mpub_socket\u001b[0m\u001b[0;34m,\u001b[0m \u001b[0mmsg\u001b[0m\u001b[0;34m,\u001b[0m \u001b[0mident\u001b[0m\u001b[0;34m=\u001b[0m\u001b[0mself\u001b[0m\u001b[0;34m.\u001b[0m\u001b[0mtopic\u001b[0m\u001b[0;34m,\u001b[0m\u001b[0;34m\u001b[0m\u001b[0m\n\u001b[0m\u001b[1;32m    143\u001b[0m         )\n\u001b[1;32m    144\u001b[0m \u001b[0;34m\u001b[0m\u001b[0m\n",
      "\u001b[0;32m/usr/local/lib/python3.5/dist-packages/jupyter_client/session.py\u001b[0m in \u001b[0;36msend\u001b[0;34m(self, stream, msg_or_type, content, parent, ident, buffers, track, header, metadata)\u001b[0m\n\u001b[1;32m    710\u001b[0m         \u001b[0;32mif\u001b[0m \u001b[0mself\u001b[0m\u001b[0;34m.\u001b[0m\u001b[0madapt_version\u001b[0m\u001b[0;34m:\u001b[0m\u001b[0;34m\u001b[0m\u001b[0m\n\u001b[1;32m    711\u001b[0m             \u001b[0mmsg\u001b[0m \u001b[0;34m=\u001b[0m \u001b[0madapt\u001b[0m\u001b[0;34m(\u001b[0m\u001b[0mmsg\u001b[0m\u001b[0;34m,\u001b[0m \u001b[0mself\u001b[0m\u001b[0;34m.\u001b[0m\u001b[0madapt_version\u001b[0m\u001b[0;34m)\u001b[0m\u001b[0;34m\u001b[0m\u001b[0m\n\u001b[0;32m--> 712\u001b[0;31m         \u001b[0mto_send\u001b[0m \u001b[0;34m=\u001b[0m \u001b[0mself\u001b[0m\u001b[0;34m.\u001b[0m\u001b[0mserialize\u001b[0m\u001b[0;34m(\u001b[0m\u001b[0mmsg\u001b[0m\u001b[0;34m,\u001b[0m \u001b[0mident\u001b[0m\u001b[0;34m)\u001b[0m\u001b[0;34m\u001b[0m\u001b[0m\n\u001b[0m\u001b[1;32m    713\u001b[0m         \u001b[0mto_send\u001b[0m\u001b[0;34m.\u001b[0m\u001b[0mextend\u001b[0m\u001b[0;34m(\u001b[0m\u001b[0mbuffers\u001b[0m\u001b[0;34m)\u001b[0m\u001b[0;34m\u001b[0m\u001b[0m\n\u001b[1;32m    714\u001b[0m         \u001b[0mlongest\u001b[0m \u001b[0;34m=\u001b[0m \u001b[0mmax\u001b[0m\u001b[0;34m(\u001b[0m\u001b[0;34m[\u001b[0m \u001b[0mlen\u001b[0m\u001b[0;34m(\u001b[0m\u001b[0ms\u001b[0m\u001b[0;34m)\u001b[0m \u001b[0;32mfor\u001b[0m \u001b[0ms\u001b[0m \u001b[0;32min\u001b[0m \u001b[0mto_send\u001b[0m \u001b[0;34m]\u001b[0m\u001b[0;34m)\u001b[0m\u001b[0;34m\u001b[0m\u001b[0m\n",
      "\u001b[0;32m/usr/local/lib/python3.5/dist-packages/jupyter_client/session.py\u001b[0m in \u001b[0;36mserialize\u001b[0;34m(self, msg, ident)\u001b[0m\n\u001b[1;32m    633\u001b[0m         \u001b[0mto_send\u001b[0m\u001b[0;34m.\u001b[0m\u001b[0mappend\u001b[0m\u001b[0;34m(\u001b[0m\u001b[0msignature\u001b[0m\u001b[0;34m)\u001b[0m\u001b[0;34m\u001b[0m\u001b[0m\n\u001b[1;32m    634\u001b[0m \u001b[0;34m\u001b[0m\u001b[0m\n\u001b[0;32m--> 635\u001b[0;31m         \u001b[0mto_send\u001b[0m\u001b[0;34m.\u001b[0m\u001b[0mextend\u001b[0m\u001b[0;34m(\u001b[0m\u001b[0mreal_message\u001b[0m\u001b[0;34m)\u001b[0m\u001b[0;34m\u001b[0m\u001b[0m\n\u001b[0m\u001b[1;32m    636\u001b[0m \u001b[0;34m\u001b[0m\u001b[0m\n\u001b[1;32m    637\u001b[0m         \u001b[0;32mreturn\u001b[0m \u001b[0mto_send\u001b[0m\u001b[0;34m\u001b[0m\u001b[0m\n",
      "\u001b[0;31mKeyboardInterrupt\u001b[0m: "
     ]
    }
   ],
   "source": [
    "fig, ax = plt.subplots()\n",
    "while True:\n",
    "    DEMOQE_read = serial.Serial('/dev/ttyUSB0',115200);\n",
    "    scope = Scope(ax)\n",
    "    ani = animation.FuncAnimation(fig, scope.update,emitter,interval=10,blit=True)\n",
    "    stream()\n",
    "    plt.grid()\n",
    "    plt.draw()\n",
    "    plt.show(block = False)\n",
    "    DEMOQE_read.close()"
   ]
  },
  {
   "cell_type": "markdown",
   "metadata": {},
   "source": [
    "# AQUI esta el codigo viejo just in case"
   ]
  },
  {
   "cell_type": "code",
   "execution_count": null,
   "metadata": {
    "collapsed": true
   },
   "outputs": [],
   "source": [
    "flag_first_run = 0\n",
    "flag_encabezado = 0\n",
    "def stream():\n",
    "    file = open(\"Generator_data.txt\",\"a\")\n",
    "    while (DEMOQE_read.inWaiting()==0):\n",
    "        pass\n",
    "            # Se recibiran 5 bytes por el puerto serial segun el protocolo\n",
    "            # time.sleep(0.000001)\n",
    "    \n",
    "    DEMOQE_read.flush()\n",
    "    data_input_2 = DEMOQE_read.read(5)\n",
    "    while True:\n",
    "        enc_posi = data_input_2.find(245)\n",
    "        if enc_posi!=0:\n",
    "            data_input_2 = data_input_2[enc_posi:]\n",
    "            data_input_3 = DEMOQE_read.read(enc_posi)\n",
    "            data_input = data_input_2 + data_input_3\n",
    "        else:\n",
    "            data_input = data_input_2\n",
    "\n",
    "        for datop in data_input_2:\n",
    "            if datop==245:\n",
    "                flag_encabezado+=1\n",
    "        if flag_encabezado>1:\n",
    "            flag_encabezado=0\n",
    "            data_input_2 =  b'\\x00' + data_input_2[1:]\n",
    "        else:\n",
    "            break\n",
    "    \n",
    "    data_list.append(data_input)\n",
    "    \n",
    "    posic_data_input = len(data_list)-1\n",
    "    #data_input = data_list[posic_data_input]\n",
    "\n",
    "    #Codigo \n",
    "    flag_trama_len_cst = 0\n",
    "    list_pos_trama = []\n",
    "    \n",
    "    enc_posi = data_input.find(245)\n",
    "    \n",
    "    # Chequeo de encabezado en la primera casilla\n",
    "    if enc_posi==0:\n",
    "        flag_first_run=0\n",
    "    # Longitud de la trama\n",
    "    trama_length = len(data_input)\n",
    "    if trama_length!=5:\n",
    "        pass\n",
    "    posiciones = trama_length - enc_posi -1\n",
    "    # Chequeo de encabezado en su ultima casilla\n",
    "    if posiciones==0:\n",
    "        flag_first_run=1\n",
    "    # Entrando formato de la primera corrida\n",
    "    if (flag_first_run==0):\n",
    "        for pos in range(posiciones):\n",
    "            list_pos_trama.append(enc_posi +pos+1)\n",
    "        for pos_dato_trama in list_pos_trama:\n",
    "            if (pos_dato_trama == enc_posi +1):\n",
    "                digital_one,digital_two,analogic_m_b = decode_channel1_one(data_input[pos_dato_trama])\n",
    "                digital_1.append(digital_one)\n",
    "                digital_2.append(digital_two)\n",
    "                auxiliar = analogic_m_b\n",
    "                flag_trama_len_cst += 1\n",
    "            elif (pos_dato_trama == enc_posi + 2):\n",
    "                analogic_l_b = decode_channel12_two(data_input[pos_dato_trama])\n",
    "                analogico_1.append(concatenation(auxiliar,analogic_l_b))\n",
    "                flag_trama_len_cst += 1\n",
    "                if enc_posi==2:\n",
    "                    flag_trama_len_cst=0\n",
    "                    flag_first_run=1\n",
    "            elif (pos_dato_trama == enc_posi + 3):\n",
    "                \n",
    "                analogic_m_b = decode_channel2_one(data_input[pos_dato_trama])\n",
    "                auxiliar2 = analogic_m_b\n",
    "                flag_trama_len_cst += 1\n",
    "                if enc_posi==1:\n",
    "                    flag_trama_len_cst=0\n",
    "                    flag_first_run=1\n",
    "                    analogic_l_b = decode_channel12_two(data_input[0])\n",
    "                    analogico_2.append(concatenation(auxiliar2,analogic_l_b))\n",
    "            elif (pos_dato_trama == enc_posi + 4):\n",
    "                analogic_l_b = decode_channel12_two(data_input[pos_dato_trama])\n",
    "                analogico_2.append(concatenation(auxiliar2,analogic_l_b))\n",
    "                flag_trama_len_cst += 1\n",
    "            else:\n",
    "                flag_first_run=1\n",
    "                if (flag_trama_len_cst == 4):\n",
    "                    flag_trama_len_cst = 0\n",
    "                    flag_first_run=0\n",
    "    else:\n",
    "        posiciones = trama_length - enc_posi -1\n",
    "        # Verificar que llegaron los dos canales completos\n",
    "        for pos_dato_trama in range(enc_posi):\n",
    "            if (pos_dato_trama == enc_posi -1):\n",
    "                analogic_l_b = decode_channel12_two(data_input[pos_dato_trama])\n",
    "                analogico_2.append(concatenation(auxiliar2,analogic_l_b))\n",
    "                flag_trama_len_cst += 1\n",
    "                if enc_posi==1:\n",
    "                    # Agregando la posicion 3 antes de salir\n",
    "                    digital_one,digital_two,analogic_m_b = decode_channel1_one(data_input[2])\n",
    "                    digital_1.append(digital_one)\n",
    "                    digital_2.append(digital_two)\n",
    "                    auxiliar = analogic_m_b\n",
    "                    # Agregando la ultima posicion antes de salir\n",
    "                    analogic_l_b = decode_channel12_two(data_input[3])\n",
    "                    analogico_1.append(concatenation(auxiliar,analogic_l_b))\n",
    "                    analogic_m_b = decode_channel2_one(data_input[4])\n",
    "                    auxiliar2 = analogic_m_b\n",
    "                    flag_first_run=1\n",
    "                if enc_posi==2:\n",
    "                    # Agregando la posicion 3 antes de salir\n",
    "                    digital_one,digital_two,analogic_m_b = decode_channel1_one(data_input[3])\n",
    "                    digital_1.append(digital_one)\n",
    "                    digital_2.append(digital_two)\n",
    "                    auxiliar = analogic_m_b\n",
    "                    # Agregando la ultima posicion antes de salir\n",
    "                    analogic_l_b = decode_channel12_two(data_input[4])\n",
    "                    analogico_1.append(concatenation(auxiliar,analogic_l_b))\n",
    "                    flag_first_run=1\n",
    "            elif (pos_dato_trama == enc_posi -2):\n",
    "                analogic_m_b = decode_channel2_one(data_input[pos_dato_trama])\n",
    "                auxiliar2 = analogic_m_b\n",
    "                flag_trama_len_cst += 1\n",
    "            elif (pos_dato_trama == enc_posi -3):\n",
    "                analogic_l_b = decode_channel12_two(data_input[pos_dato_trama])\n",
    "                analogico_1.append(concatenation(auxiliar,analogic_l_b))\n",
    "                flag_trama_len_cst += 1\n",
    "            elif (pos_dato_trama == enc_posi -4):\n",
    "                digital_one,digital_two,analogic_m_b = decode_channel1_one(data_input[pos_dato_trama])\n",
    "                digital_1.append(digital_one)\n",
    "                digital_2.append(digital_two)\n",
    "                auxiliar = analogic_m_b\n",
    "                flag_trama_len_cst += 1\n",
    "            else:\n",
    "                flag_trama_len_cst = 0\n",
    "                flag_first_run = 0\n",
    "    \n",
    "    if analogico_1[len(analogico_1)-1]>=4095:\n",
    "        print (auxiliar, analogic_l_b, analogico_1, data_list[len(data_list)-3],data_list[len(data_list)-2],data_list[len(data_list)-1])\n",
    "        break\n",
    "    file.write(str(analogico_1[len(analogico_1)-1])+\"\\n\")"
   ]
  }
 ],
 "metadata": {
  "kernelspec": {
   "display_name": "Python 2",
   "language": "python",
   "name": "python2"
  },
  "language_info": {
   "codemirror_mode": {
    "name": "ipython",
    "version": 3
   },
   "file_extension": ".py",
   "mimetype": "text/x-python",
   "name": "python",
   "nbconvert_exporter": "python",
   "pygments_lexer": "ipython3",
   "version": "3.5.2"
  }
 },
 "nbformat": 4,
 "nbformat_minor": 2
}
