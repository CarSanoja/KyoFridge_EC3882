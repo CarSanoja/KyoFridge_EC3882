{
 "cells": [
  {
   "cell_type": "code",
   "execution_count": 727,
   "metadata": {
    "collapsed": true
   },
   "outputs": [],
   "source": [
    "#The libraries we are going to use are PySerial and Time\n",
    "# PySerial is encapsulates the access for the serial port.\n",
    "import serial\n",
    "import time\n",
    "import numpy as np\n",
    "import os"
   ]
  },
  {
   "cell_type": "code",
   "execution_count": 728,
   "metadata": {},
   "outputs": [
    {
     "name": "stdout",
     "output_type": "stream",
     "text": [
      "True\n"
     ]
    }
   ],
   "source": [
    "# Opening a Serial port\n",
    "\n",
    "# - The port is immediately opened on object creation, when a port is given. It is not opened when\n",
    "# port is None and a successive call to open() is required. port is a device name: depending on \n",
    "# operating system. e.g. /dev/ttyUSB0 on GNU/Linux or COM3 on Windows.\n",
    "# - The parameter baudrate can be one of the standard values:  50, 75, 110, 134, 150, 200, 300, 600, 1200,\n",
    "# 1800, 2400, 4800, 9600, 19200, 38400, 57600, 115200. These are well supported on all platforms.\n",
    "# - Standard values above 115200, such as:  230400, 460800, 500000, 576000, 921600, 1000000, 1152000,\n",
    "# 1500000, 2000000, 2500000, 3000000, 3500000, 4000000 also work on many platforms and devices.\n",
    "# Non-standard values are also supported on some platforms (GNU/Linux, MAC OSX >= Tiger, Windows).\n",
    "# - Possible values for the parameter timeout which controls the behavior of read():\n",
    "# .. timeout = None: wait forever until requested number of bytes are received\n",
    "# .. timeout = 0:  non-blocking mode, return immediately in any case, returning zero or more, up to\n",
    "# the requested number of bytes\n",
    "# .. timeout = x:  set timeout to x seconds (float allowed) returns immediately when the requested\n",
    "# number of bytes are available, otherwise wait until the timeout expires and return all bytes that were\n",
    "# received until then.\n",
    "DEMOQE_read = serial.Serial('/dev/ttyUSB2',115200,timeout=1);\n",
    "print(DEMOQE_read.isOpen())"
   ]
  },
  {
   "cell_type": "code",
   "execution_count": 729,
   "metadata": {
    "collapsed": true
   },
   "outputs": [],
   "source": [
    "# VARIABLES para almacenar los valores de los sensores en el tiempo\n",
    "digital_1 = []\n",
    "digital_2 = []\n",
    "analogico_1 = []\n",
    "analogico_1.append(0)\n",
    "analogico_2 = []\n",
    "# Constantes de manipulacion para el main\n",
    "flag_first_run = 0\n",
    "flag_trama_len_cst = 0\n",
    "list_pos_trama = []\n",
    "i = 0\n",
    "j = 0\n",
    "data_list = []\n",
    "#os.remove(\"Generator_data.txt\")\n",
    "file = open(\"Generator_data.txt\",\"w\")\n",
    "file.write(\"0\")\n",
    "file.close()"
   ]
  },
  {
   "cell_type": "code",
   "execution_count": 730,
   "metadata": {
    "collapsed": true
   },
   "outputs": [],
   "source": [
    "#Hex to binary\n",
    "def dec_to_bin(dec):\n",
    "    dec_str = str(int(dec))\n",
    "    cod_bin = bin(int(dec_str))\n",
    "    return cod_bin"
   ]
  },
  {
   "cell_type": "code",
   "execution_count": 731,
   "metadata": {
    "collapsed": true
   },
   "outputs": [],
   "source": [
    "#Binary to decimal\n",
    "def bin_to_dec(bina):\n",
    "    cod_dec = int(str(bina),2)\n",
    "    return cod_dec"
   ]
  },
  {
   "cell_type": "code",
   "execution_count": 732,
   "metadata": {
    "collapsed": true
   },
   "outputs": [],
   "source": [
    "# This function make possible to split an integer number to separate the information we want.\n",
    "# First we have to translate the hexa code to binary. Second we save every bit following the\n",
    "# protocol order:\n",
    "# 0 D1 D2 A11 A10 A9 A8 A7\n",
    "def decode_channel1_one(number):\n",
    "    #decode Channel one\n",
    "    part_one_bin = dec_to_bin(number)\n",
    "    len_bit_number = len(part_one_bin) -2\n",
    "    diferencia = 8 - len_bit_number\n",
    "    cero_faltante = \"0\"*diferencia\n",
    "    part_one_bin_comp = (cero_faltante + str(part_one_bin[2:]))\n",
    "    digital_one = part_one_bin_comp[1]\n",
    "    digital_two = part_one_bin_comp[2]\n",
    "    analogic_most_significant = part_one_bin_comp[3:]\n",
    "    return digital_one,digital_two,str(analogic_most_significant)"
   ]
  },
  {
   "cell_type": "code",
   "execution_count": 733,
   "metadata": {
    "collapsed": true
   },
   "outputs": [],
   "source": [
    "# This function make possible to split an integer number to separate the information we want.\n",
    "# First we have to translate the hexa code to binary. Second we save every bit following the\n",
    "# protocol order:\n",
    "# 0 A6 A5 A4 A3 A2 A1 A0\n",
    "def decode_channel12_two(number):\n",
    "    #decode channe one and two for less significant bits\n",
    "    part_one_bin = dec_to_bin(number)\n",
    "    len_bit_number = len(part_one_bin) -2\n",
    "    diferencia = 8 - len_bit_number\n",
    "    cero_faltante = \"0\"*diferencia\n",
    "    part_one_bin_comp = (cero_faltante + str(part_one_bin[2:]))\n",
    "    analogic_less_significant = part_one_bin_comp[1:]\n",
    "    return str(analogic_less_significant)"
   ]
  },
  {
   "cell_type": "code",
   "execution_count": 734,
   "metadata": {
    "collapsed": true
   },
   "outputs": [],
   "source": [
    "# This function make possible to split an integer number to separate the information we want.\n",
    "# First we have to translate the hexa code to binary. Second we save every bit following the\n",
    "# protocol order:\n",
    "# 0 0 0 A11 A10 A9 A8 A7\n",
    "def decode_channel2_one(number):\n",
    "    # decode channel two for most significant bits\n",
    "    part_one_bin = dec_to_bin(number)\n",
    "    len_bit_number = len(part_one_bin) -2\n",
    "    diferencia = 8 - len_bit_number\n",
    "    cero_faltante = \"0\"*diferencia\n",
    "    part_one_bin_comp = (cero_faltante + str(part_one_bin[2:]))\n",
    "    analogic_most_significant = part_one_bin_comp[3:]\n",
    "    return str(analogic_most_significant)"
   ]
  },
  {
   "cell_type": "code",
   "execution_count": 735,
   "metadata": {
    "collapsed": true
   },
   "outputs": [],
   "source": [
    "# We need to concatened the entirely analogic information.\n",
    "def concatenation(string1,string2):\n",
    "    return bin_to_dec(int(string1 + str(string2)))"
   ]
  },
  {
   "cell_type": "code",
   "execution_count": 737,
   "metadata": {},
   "outputs": [
    {
     "ename": "KeyboardInterrupt",
     "evalue": "",
     "output_type": "error",
     "traceback": [
      "\u001b[0;31m------------------------------------------------------------------------\u001b[0m",
      "\u001b[0;31mKeyboardInterrupt\u001b[0m                      Traceback (most recent call last)",
      "\u001b[0;32m<ipython-input-737-3d149c318934>\u001b[0m in \u001b[0;36m<module>\u001b[0;34m()\u001b[0m\n\u001b[1;32m      5\u001b[0m             \u001b[0;31m# Se recibiran 5 bytes por el puerto serial segun el protocolo\u001b[0m\u001b[0;34m\u001b[0m\u001b[0;34m\u001b[0m\u001b[0m\n\u001b[1;32m      6\u001b[0m             \u001b[0;31m#time.sleep(0.000001)\u001b[0m\u001b[0;34m\u001b[0m\u001b[0;34m\u001b[0m\u001b[0m\n\u001b[0;32m----> 7\u001b[0;31m     \u001b[0mDEMOQE_read\u001b[0m\u001b[0;34m.\u001b[0m\u001b[0mflush\u001b[0m\u001b[0;34m(\u001b[0m\u001b[0;34m)\u001b[0m\u001b[0;34m\u001b[0m\u001b[0m\n\u001b[0m\u001b[1;32m      8\u001b[0m     \u001b[0mdata_input_2\u001b[0m \u001b[0;34m=\u001b[0m \u001b[0mDEMOQE_read\u001b[0m\u001b[0;34m.\u001b[0m\u001b[0mread\u001b[0m\u001b[0;34m(\u001b[0m\u001b[0;36m5\u001b[0m\u001b[0;34m)\u001b[0m\u001b[0;34m\u001b[0m\u001b[0m\n\u001b[1;32m      9\u001b[0m     \u001b[0mdata_list\u001b[0m\u001b[0;34m.\u001b[0m\u001b[0mappend\u001b[0m\u001b[0;34m(\u001b[0m\u001b[0mdata_input_2\u001b[0m\u001b[0;34m)\u001b[0m\u001b[0;34m\u001b[0m\u001b[0m\n",
      "\u001b[0;32m/usr/local/lib/python3.5/dist-packages/serial/serialposix.py\u001b[0m in \u001b[0;36mflush\u001b[0;34m(self)\u001b[0m\n\u001b[1;32m    587\u001b[0m         \u001b[0;32mif\u001b[0m \u001b[0;32mnot\u001b[0m \u001b[0mself\u001b[0m\u001b[0;34m.\u001b[0m\u001b[0mis_open\u001b[0m\u001b[0;34m:\u001b[0m\u001b[0;34m\u001b[0m\u001b[0m\n\u001b[1;32m    588\u001b[0m             \u001b[0;32mraise\u001b[0m \u001b[0mportNotOpenError\u001b[0m\u001b[0;34m\u001b[0m\u001b[0m\n\u001b[0;32m--> 589\u001b[0;31m         \u001b[0mtermios\u001b[0m\u001b[0;34m.\u001b[0m\u001b[0mtcdrain\u001b[0m\u001b[0;34m(\u001b[0m\u001b[0mself\u001b[0m\u001b[0;34m.\u001b[0m\u001b[0mfd\u001b[0m\u001b[0;34m)\u001b[0m\u001b[0;34m\u001b[0m\u001b[0m\n\u001b[0m\u001b[1;32m    590\u001b[0m \u001b[0;34m\u001b[0m\u001b[0m\n\u001b[1;32m    591\u001b[0m     \u001b[0;32mdef\u001b[0m \u001b[0mreset_input_buffer\u001b[0m\u001b[0;34m(\u001b[0m\u001b[0mself\u001b[0m\u001b[0;34m)\u001b[0m\u001b[0;34m:\u001b[0m\u001b[0;34m\u001b[0m\u001b[0m\n",
      "\u001b[0;31mKeyboardInterrupt\u001b[0m: "
     ]
    }
   ],
   "source": [
    "flag_first_run = 0\n",
    "while True:\n",
    "    file = open(\"Generator_data.txt\",\"a\")\n",
    "    while (DEMOQE_read.inWaiting()==0):\n",
    "        pass\n",
    "            # Se recibiran 5 bytes por el puerto serial segun el protocolo\n",
    "            # time.sleep(0.000001)\n",
    "    \n",
    "    DEMOQE_read.flush()\n",
    "    data_input_2 = DEMOQE_read.read(5)\n",
    "    data_list.append(data_input_2)\n",
    "    posic_data_input = data_list.index(data_input_2)\n",
    "    data_input = data_list[posic_data_input]\n",
    "    \n",
    "    #Codigo \n",
    "    flag_trama_len_cst = 0\n",
    "    list_pos_trama = []\n",
    "    enc_posi = data_input.find(245)\n",
    "    # Chequeo de encabezado en la primera casilla\n",
    "    if enc_posi==0:\n",
    "        flag_first_run=0\n",
    "    # Longitud de la trama\n",
    "    trama_length = len(data_input)\n",
    "    if trama_length!=5:\n",
    "        pass\n",
    "    posiciones = trama_length - enc_posi -1\n",
    "    # Chequeo de encabezado en su ultima casilla\n",
    "    if posiciones==0:\n",
    "        flag_first_run=1\n",
    "    # Entrando formato de la primera corrida\n",
    "    if (flag_first_run==0):\n",
    "        for pos in range(posiciones):\n",
    "            list_pos_trama.append(enc_posi +pos+1)\n",
    "        for pos_dato_trama in list_pos_trama:\n",
    "            if (pos_dato_trama == enc_posi +1):\n",
    "                digital_one,digital_two,analogic_m_b = decode_channel1_one(data_input[pos_dato_trama])\n",
    "                digital_1.append(digital_one)\n",
    "                digital_2.append(digital_two)\n",
    "                auxiliar = analogic_m_b\n",
    "                flag_trama_len_cst += 1\n",
    "            elif (pos_dato_trama == enc_posi + 2):\n",
    "                analogic_l_b = decode_channel12_two(data_input[pos_dato_trama])\n",
    "                analogico_1.append(concatenation(auxiliar,analogic_l_b)*3)\n",
    "                flag_trama_len_cst += 1\n",
    "                if enc_posi==2:\n",
    "                    flag_trama_len_cst=0\n",
    "                    flag_first_run=1\n",
    "            elif (pos_dato_trama == enc_posi + 3):\n",
    "                if enc_posi==1:\n",
    "                    flag_trama_len_cst=0\n",
    "                    flag_first_run=1\n",
    "                    analogic_l_b = decode_channel12_two(data_input[0])\n",
    "                    #analogico_2.append(concatenation(auxiliar2,analogic_l_b))\n",
    "                analogic_m_b = decode_channel2_one(data_input[pos_dato_trama])\n",
    "                auxiliar2 = analogic_m_b\n",
    "                flag_trama_len_cst += 1\n",
    "            elif (pos_dato_trama == enc_posi + 4):\n",
    "                analogic_l_b = decode_channel12_two(data_input[pos_dato_trama])\n",
    "                analogico_2.append(concatenation(auxiliar2,analogic_l_b))\n",
    "                flag_trama_len_cst += 1\n",
    "            else:\n",
    "                flag_first_run=1\n",
    "                if (flag_trama_len_cst == 4):\n",
    "                    flag_trama_len_cst = 0\n",
    "                    flag_first_run=0\n",
    "    else:\n",
    "        posiciones = trama_length - enc_posi -1\n",
    "        # Verificar que llegaron los dos canales completos\n",
    "        for pos_dato_trama in range(enc_posi):\n",
    "            if (pos_dato_trama == enc_posi -1):\n",
    "                analogic_l_b = decode_channel12_two(data_input[pos_dato_trama])\n",
    "                analogico_2.append(concatenation(auxiliar2,analogic_l_b))\n",
    "                flag_trama_len_cst += 1\n",
    "                if enc_posi==1:\n",
    "                    # Agregando la posicion 3 antes de salir\n",
    "                    digital_one,digital_two,analogic_m_b = decode_channel1_one(data_input[2])\n",
    "                    digital_1.append(digital_one)\n",
    "                    digital_2.append(digital_two)\n",
    "                    auxiliar = analogic_m_b\n",
    "                    # Agregando la ultima posicion antes de salir\n",
    "                    analogic_l_b = decode_channel12_two(data_input[3])\n",
    "                    analogico_1.append(concatenation(auxiliar,analogic_l_b))\n",
    "                    analogic_m_b = decode_channel2_one(data_input[4])\n",
    "                    auxiliar2 = analogic_m_b\n",
    "                    flag_first_run=1\n",
    "                if enc_posi==2:\n",
    "                    # Agregando la posicion 3 antes de salir\n",
    "                    digital_one,digital_two,analogic_m_b = decode_channel1_one(data_input[3])\n",
    "                    digital_1.append(digital_one)\n",
    "                    digital_2.append(digital_two)\n",
    "                    auxiliar = analogic_m_b\n",
    "                    # Agregando la ultima posicion antes de salir\n",
    "                    analogic_l_b = decode_channel12_two(data_input[4])\n",
    "                    analogico_1.append(concatenation(auxiliar,analogic_l_b))\n",
    "                    flag_first_run=1\n",
    "            elif (pos_dato_trama == enc_posi -2):\n",
    "                analogic_m_b = decode_channel2_one(data_input[pos_dato_trama])\n",
    "                auxiliar2 = analogic_m_b\n",
    "                flag_trama_len_cst += 1\n",
    "            elif (pos_dato_trama == enc_posi -3):\n",
    "                analogic_l_b = decode_channel12_two(data_input[pos_dato_trama])\n",
    "                analogico_1.append(concatenation(auxiliar,analogic_l_b))\n",
    "                flag_trama_len_cst += 1\n",
    "            elif (pos_dato_trama == enc_posi -4):\n",
    "                digital_one,digital_two,analogic_m_b = decode_channel1_one(data_input[pos_dato_trama])\n",
    "                digital_1.append(digital_one)\n",
    "                digital_2.append(digital_two)\n",
    "                auxiliar = analogic_m_b\n",
    "                flag_trama_len_cst += 1\n",
    "            else:\n",
    "                flag_trama_len_cst = 0\n",
    "                flag_first_run = 0\n",
    "    \n",
    "    #file.write(str(analogico_1[len(analogico_1)-1])+\"\\n\")\n",
    "    if len(analogico_1)>100:\n",
    "        plot(analogico_1[len(analogico_1)-100]:len(analogico_1))\n",
    "    else:\n",
    "        plot(analogico_1)"
   ]
  }
 ],
 "metadata": {
  "kernelspec": {
   "display_name": "Python 2",
   "language": "python",
   "name": "python2"
  },
  "language_info": {
   "codemirror_mode": {
    "name": "ipython",
    "version": 3
   },
   "file_extension": ".py",
   "mimetype": "text/x-python",
   "name": "python",
   "nbconvert_exporter": "python",
   "pygments_lexer": "ipython3",
   "version": "3.5.2"
  }
 },
 "nbformat": 4,
 "nbformat_minor": 2
}
