{
 "cells": [
  {
   "cell_type": "code",
   "execution_count": 189,
   "metadata": {
    "collapsed": true
   },
   "outputs": [],
   "source": [
    "%matplotlib inline\n",
    "#The libraries we are going to use are PySerial and Time\n",
    "# PySerial is encapsulates the access for the serial port.\n",
    "import serial\n",
    "import time\n",
    "import numpy as np\n",
    "# script that allow to set the graphs for the signal\n",
    "#from graph import *\n",
    "# Matplotlib to draw functions\n",
    "import matplotlib.pyplot as plt\n",
    "# To allow make live data graph we need drawnow\n",
    "# pip install drawnow\n",
    "# Librerias para graficar\n",
    "from drawnow import *\n",
    "from IPython import display\n",
    "import matplotlib.animation as animation\n",
    "from IPython.display import HTML"
   ]
  },
  {
   "cell_type": "code",
   "execution_count": 190,
   "metadata": {},
   "outputs": [
    {
     "name": "stdout",
     "output_type": "stream",
     "text": [
      "True\n"
     ]
    }
   ],
   "source": [
    "# Opening a Serial port\n",
    "\n",
    "# - The port is immediately opened on object creation, when a port is given. It is not opened when\n",
    "# port is None and a successive call to open() is required. port is a device name: depending on \n",
    "# operating system. e.g. /dev/ttyUSB0 on GNU/Linux or COM3 on Windows.\n",
    "# - The parameter baudrate can be one of the standard values:  50, 75, 110, 134, 150, 200, 300, 600, 1200,\n",
    "# 1800, 2400, 4800, 9600, 19200, 38400, 57600, 115200. These are well supported on all platforms.\n",
    "# - Standard values above 115200, such as:  230400, 460800, 500000, 576000, 921600, 1000000, 1152000,\n",
    "# 1500000, 2000000, 2500000, 3000000, 3500000, 4000000 also work on many platforms and devices.\n",
    "# Non-standard values are also supported on some platforms (GNU/Linux, MAC OSX >= Tiger, Windows).\n",
    "# - Possible values for the parameter timeout which controls the behavior of read():\n",
    "# .. timeout = None: wait forever until requested number of bytes are received\n",
    "# .. timeout = 0:  non-blocking mode, return immediately in any case, returning zero or more, up to\n",
    "# the requested number of bytes\n",
    "# .. timeout = x:  set timeout to x seconds (float allowed) returns immediately when the requested\n",
    "# number of bytes are available, otherwise wait until the timeout expires and return all bytes that were\n",
    "# received until then.\n",
    "DEMOQE_read = serial.Serial('/dev/ttyUSB0',115200,timeout=1);\n",
    "print(DEMOQE_read.isOpen())"
   ]
  },
  {
   "cell_type": "code",
   "execution_count": 191,
   "metadata": {
    "collapsed": true
   },
   "outputs": [],
   "source": [
    "# Set the matplotlib parameters, initializing\n",
    "plt.ion() # Modo interactivo de matplotlib\n",
    "# VARIABLES para almacenar los valores de los sensores en el tiempo\n",
    "digital_1 = []\n",
    "digital_2 = []\n",
    "analogico_1 = []\n",
    "analogico_2 = []\n",
    "# Constantes de manipulacion para el main\n",
    "flag_first_run = 0\n",
    "flag_trama_len_cst = 0\n",
    "list_pos_trama = []\n",
    "i = 0\n",
    "data_list = []\n",
    "time_list = []"
   ]
  },
  {
   "cell_type": "code",
   "execution_count": 192,
   "metadata": {
    "collapsed": true
   },
   "outputs": [],
   "source": [
    "#Hex to binary\n",
    "def dec_to_bin(dec):\n",
    "    dec_str = str(int(dec))\n",
    "    cod_bin = bin(int(dec_str))\n",
    "    return cod_bin"
   ]
  },
  {
   "cell_type": "code",
   "execution_count": 193,
   "metadata": {
    "collapsed": true
   },
   "outputs": [],
   "source": [
    "#Binary to decimal\n",
    "def bin_to_dec(bina):\n",
    "    cod_dec = int(str(bina),2)\n",
    "    return cod_dec"
   ]
  },
  {
   "cell_type": "code",
   "execution_count": 194,
   "metadata": {
    "collapsed": true
   },
   "outputs": [],
   "source": [
    "# This function make possible to split an integer number to separate the information we want.\n",
    "# First we have to translate the hexa code to binary. Second we save every bit following the\n",
    "# protocol order:\n",
    "# 0 D1 D2 A11 A10 A9 A8 A7\n",
    "def decode_channel1_one(number):\n",
    "    #decode Channel one\n",
    "    part_one_bin = dec_to_bin(number)\n",
    "    len_bit_number = len(part_one_bin) -2\n",
    "    diferencia = 8 - len_bit_number\n",
    "    cero_faltante = \"0\"*diferencia\n",
    "    part_one_bin_comp = (cero_faltante + str(part_one_bin[2:]))\n",
    "    digital_one = part_one_bin_comp[1]\n",
    "    digital_two = part_one_bin_comp[2]\n",
    "    analogic_most_significant = part_one_bin_comp[3:]\n",
    "    return digital_one,digital_two,str(analogic_most_significant)"
   ]
  },
  {
   "cell_type": "code",
   "execution_count": 195,
   "metadata": {
    "collapsed": true
   },
   "outputs": [],
   "source": [
    "# This function make possible to split an integer number to separate the information we want.\n",
    "# First we have to translate the hexa code to binary. Second we save every bit following the\n",
    "# protocol order:\n",
    "# 0 A6 A5 A4 A3 A2 A1 A0\n",
    "def decode_channel12_two(number):\n",
    "    #decode channe one and two for less significant bits\n",
    "    part_one_bin = dec_to_bin(number)\n",
    "    len_bit_number = len(part_one_bin) -2\n",
    "    diferencia = 8 - len_bit_number\n",
    "    cero_faltante = \"0\"*diferencia\n",
    "    part_one_bin_comp = (cero_faltante + str(part_one_bin[2:]))\n",
    "    analogic_less_significant = part_one_bin_comp[1:]\n",
    "    return str(analogic_less_significant)"
   ]
  },
  {
   "cell_type": "code",
   "execution_count": 196,
   "metadata": {
    "collapsed": true
   },
   "outputs": [],
   "source": [
    "# This function make possible to split an integer number to separate the information we want.\n",
    "# First we have to translate the hexa code to binary. Second we save every bit following the\n",
    "# protocol order:\n",
    "# 0 0 0 A11 A10 A9 A8 A7\n",
    "def decode_channel2_one(number):\n",
    "    # decode channel two for most significant bits\n",
    "    part_one_bin = dec_to_bin(number)\n",
    "    len_bit_number = len(part_one_bin) -2\n",
    "    diferencia = 8 - len_bit_number\n",
    "    cero_faltante = \"0\"*diferencia\n",
    "    part_one_bin_comp = (cero_faltante + str(part_one_bin[2:]))\n",
    "    analogic_most_significant = part_one_bin_comp[3:]\n",
    "    return str(analogic_most_significant)"
   ]
  },
  {
   "cell_type": "code",
   "execution_count": 197,
   "metadata": {
    "collapsed": true
   },
   "outputs": [],
   "source": [
    "# We need to concatened the entirely analogic information.\n",
    "def concatenation(string1,string2):\n",
    "    return bin_to_dec(int(string1 + str(string2)))"
   ]
  },
  {
   "cell_type": "code",
   "execution_count": 198,
   "metadata": {
    "collapsed": true
   },
   "outputs": [],
   "source": [
    "def makeFig(): #Create a function that makes our desired plot\n",
    "    plt.title('My Live Streaming Sensor Data')     \n",
    "    plt.grid(True)                                  \n",
    "    plt.ylabel('amplitud')                            \n",
    "    plt.xlabel('time')\n",
    "    plt.plot(analogico_1)       \n",
    "    display.display(plt.gcf())\n",
    "    display.clear_output(wait=True)"
   ]
  },
  {
   "cell_type": "code",
   "execution_count": 199,
   "metadata": {},
   "outputs": [
    {
     "name": "stdout",
     "output_type": "stream",
     "text": [
      "Keyboard interrupt\n"
     ]
    }
   ],
   "source": [
    "while True:\n",
    "    try:\n",
    "# To find the Serial port direction we can get the name typing python in the terminal:\n",
    "# $ python -m serial.tools.list_ports -v\n",
    "# NOTE: The microcontroller must be connected\n",
    "        while (DEMOQE_read.inWaiting()==0):\n",
    "            #print(\"No data in port\")\n",
    "            pass\n",
    "        # Se recibiran 5 bytes por el puerto serial segun el protocolo\n",
    "        #time.sleep(0.000001)\n",
    "        DEMOQE_read.flush()\n",
    "        data_input_2 = DEMOQE_read.read(5)\n",
    "        data_list.append(data_input_2)\n",
    "        time_list.append(i)\n",
    "        i+=0.0005\n",
    "        \n",
    "    except:\n",
    "        print(\"Keyboard interrupt\")\n",
    "        DEMOQE_read.close()\n",
    "        break"
   ]
  },
  {
   "cell_type": "code",
   "execution_count": 200,
   "metadata": {
    "collapsed": true
   },
   "outputs": [],
   "source": [
    "flag_first_run = 0\n",
    "for data_input in data_list:\n",
    "    #Codigo \n",
    "    flag_trama_len_cst = 0\n",
    "    list_pos_trama = []\n",
    "    enc_posi = data_input.find(245)\n",
    "    # Chequeo de encabezado en la primera casilla\n",
    "    if enc_posi==0:\n",
    "        flag_first_run=0\n",
    "    # Longitud de la trama\n",
    "    trama_length = len(data_input)\n",
    "    if trama_length!=5:\n",
    "        continue\n",
    "    posiciones = trama_length - enc_posi -1\n",
    "    # Chequeo de encabezado en su ultima casilla\n",
    "    if posiciones==0:\n",
    "        flag_first_run=1\n",
    "    # Entrando formato de la primera corrida\n",
    "    if (flag_first_run==0):\n",
    "        for pos in range(posiciones):\n",
    "            list_pos_trama.append(enc_posi +pos+1)\n",
    "        for pos_dato_trama in list_pos_trama:\n",
    "            if (pos_dato_trama == enc_posi +1):\n",
    "                digital_one,digital_two,analogic_m_b = decode_channel1_one(data_input[pos_dato_trama])\n",
    "                digital_1.append(digital_one)\n",
    "                digital_2.append(digital_two)\n",
    "                auxiliar = analogic_m_b\n",
    "                flag_trama_len_cst += 1\n",
    "            elif (pos_dato_trama == enc_posi + 2):\n",
    "                analogic_l_b = decode_channel12_two(data_input[pos_dato_trama])\n",
    "                analogico_1.append(concatenation(auxiliar,analogic_l_b)*3)\n",
    "                flag_trama_len_cst += 1\n",
    "                if enc_posi==2:\n",
    "                    flag_trama_len_cst=0\n",
    "                    flag_first_run=1\n",
    "            elif (pos_dato_trama == enc_posi + 3):\n",
    "                if enc_posi==1:\n",
    "                    flag_trama_len_cst=0\n",
    "                    flag_first_run=1\n",
    "                    analogic_l_b = decode_channel12_two(data_input[0])\n",
    "                    analogico_2.append(concatenation(auxiliar2,analogic_l_b))\n",
    "                analogic_m_b = decode_channel2_one(data_input[pos_dato_trama])\n",
    "                auxiliar2 = analogic_m_b\n",
    "                flag_trama_len_cst += 1\n",
    "            elif (pos_dato_trama == enc_posi + 4):\n",
    "                analogic_l_b = decode_channel12_two(data_input[pos_dato_trama])\n",
    "                analogico_2.append(concatenation(auxiliar2,analogic_l_b))\n",
    "                flag_trama_len_cst += 1\n",
    "            else:\n",
    "                flag_first_run=1\n",
    "                if (flag_trama_len_cst == 4):\n",
    "                    flag_trama_len_cst = 0\n",
    "                    flag_first_run=0\n",
    "    else:\n",
    "        posiciones = trama_length - enc_posi -1\n",
    "        # Verificar que llegaron los dos canales completos\n",
    "        for pos_dato_trama in range(enc_posi):\n",
    "            if (pos_dato_trama == enc_posi -1):\n",
    "                analogic_l_b = decode_channel12_two(data_input[pos_dato_trama])\n",
    "                analogico_2.append(concatenation(auxiliar2,analogic_l_b))\n",
    "                flag_trama_len_cst += 1\n",
    "                if enc_posi==1:\n",
    "                    # Agregando la posicion 3 antes de salir\n",
    "                    digital_one,digital_two,analogic_m_b = decode_channel1_one(data_input[2])\n",
    "                    digital_1.append(digital_one)\n",
    "                    digital_2.append(digital_two)\n",
    "                    auxiliar = analogic_m_b\n",
    "                    # Agregando la ultima posicion antes de salir\n",
    "                    analogic_l_b = decode_channel12_two(data_input[3])\n",
    "                    analogico_1.append(concatenation(auxiliar,analogic_l_b))\n",
    "                    analogic_m_b = decode_channel2_one(data_input[4])\n",
    "                    auxiliar2 = analogic_m_b\n",
    "                    flag_first_run=1\n",
    "                if enc_posi==2:\n",
    "                    # Agregando la posicion 3 antes de salir\n",
    "                    digital_one,digital_two,analogic_m_b = decode_channel1_one(data_input[3])\n",
    "                    digital_1.append(digital_one)\n",
    "                    digital_2.append(digital_two)\n",
    "                    auxiliar = analogic_m_b\n",
    "                    # Agregando la ultima posicion antes de salir\n",
    "                    analogic_l_b = decode_channel12_two(data_input[4])\n",
    "                    analogico_1.append(concatenation(auxiliar,analogic_l_b))\n",
    "                    flag_first_run=1\n",
    "            elif (pos_dato_trama == enc_posi -2):\n",
    "                analogic_m_b = decode_channel2_one(data_input[pos_dato_trama])\n",
    "                auxiliar2 = analogic_m_b\n",
    "                flag_trama_len_cst += 1\n",
    "            elif (pos_dato_trama == enc_posi -3):\n",
    "                analogic_l_b = decode_channel12_two(data_input[pos_dato_trama])\n",
    "                analogico_1.append(concatenation(auxiliar,analogic_l_b))\n",
    "                flag_trama_len_cst += 1\n",
    "            elif (pos_dato_trama == enc_posi -4):\n",
    "                digital_one,digital_two,analogic_m_b = decode_channel1_one(data_input[pos_dato_trama])\n",
    "                digital_1.append(digital_one)\n",
    "                digital_2.append(digital_two)\n",
    "                auxiliar = analogic_m_b\n",
    "                flag_trama_len_cst += 1\n",
    "            else:\n",
    "                flag_trama_len_cst = 0\n",
    "                flag_first_run = 0"
   ]
  },
  {
   "cell_type": "code",
   "execution_count": 201,
   "metadata": {},
   "outputs": [
    {
     "name": "stdout",
     "output_type": "stream",
     "text": [
      "3625\n",
      "3625\n"
     ]
    }
   ],
   "source": [
    "analogico_1_V2 = [x*3/4095 for x in analogico_1]\n",
    "print(len(time_list))\n",
    "print(len(analogico_1_V2))"
   ]
  },
  {
   "cell_type": "code",
   "execution_count": 202,
   "metadata": {},
   "outputs": [
    {
     "data": {
      "image/png": "[encoded data removed]",
      "text/plain": [
       "<matplotlib.figure.Figure at 0xae1cb70c>"
      ]
     },
     "metadata": {},
     "output_type": "display_data"
    }
   ],
   "source": [
    "plt.plot(time_list[100:200],analogico_1_V2[100:200])\n",
    "plt.title(\"Resultado frecuencia de 100\")\n",
    "plt.savefig(\"f100.png\")"
   ]
  },
  {
   "cell_type": "code",
   "execution_count": null,
   "metadata": {
    "collapsed": true
   },
   "outputs": [],
   "source": []
  },
  {
   "cell_type": "code",
   "execution_count": null,
   "metadata": {
    "collapsed": true
   },
   "outputs": [],
   "source": []
  }
 ],
 "metadata": {
  "kernelspec": {
   "display_name": "Python 2",
   "language": "python",
   "name": "python2"
  },
  "language_info": {
   "codemirror_mode": {
    "name": "ipython",
    "version": 3
   },
   "file_extension": ".py",
   "mimetype": "text/x-python",
   "name": "python",
   "nbconvert_exporter": "python",
   "pygments_lexer": "ipython3",
   "version": "3.5.2"
  }
 },
 "nbformat": 4,
 "nbformat_minor": 2
}
