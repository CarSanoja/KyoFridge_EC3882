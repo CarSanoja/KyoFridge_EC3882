{
 "cells": [
  {
   "cell_type": "code",
   "execution_count": 31,
   "metadata": {},
   "outputs": [],
   "source": [
    "from tkinter import Tk, Label, Button\n",
    "\n",
    "class MyFirstGUI:\n",
    "    def __init__(self, master):\n",
    "        self.master = master\n",
    "        master.title(\"Time base\")\n",
    "        master.geometry('400x220')\n",
    "\n",
    "        self.label = Label(master, text=\"Para cambiar la base de tiempo se \\n debe presionar la base de tiempo deseada\")\n",
    "        self.label.pack()\n",
    "        \n",
    "        self.caso1_button = Button(master, text=\"1 seg / DIV\", command=self.caso1)\n",
    "        self.caso1_button.pack()\n",
    "        \n",
    "        self.caso2_button = Button(master, text=\"0.2 seg / DIV\", command=self.caso2)\n",
    "        self.caso2_button.pack()\n",
    "        \n",
    "        self.caso3_button = Button(master, text=\"0.1 seg / DIV\", command=self.caso3)\n",
    "        self.caso3_button.pack()\n",
    "\n",
    "        self.caso4_button = Button(master, text=\"0.02 seg / DIV\", command=self.caso4)\n",
    "        self.caso4_button.pack()\n",
    "        \n",
    "        self.caso5_button = Button(master, text=\"0.01 seg / DIV\", command=self.caso5)\n",
    "        self.caso5_button.pack()\n",
    "        \n",
    "        self.close_button = Button(master, text=\"Close\", command=master.destroy)\n",
    "        self.close_button.pack()\n",
    "\n",
    "\n",
    "    def caso1(self):\n",
    "        file = open(\"time_base_data.txt\", \"w\")\n",
    "        file.write(str(5)) \n",
    "        file.close()\n",
    "        \n",
    "    def caso2(self):\n",
    "        file = open(\"time_base_data.txt\", \"w\")\n",
    "        file.write(str(1)) \n",
    "    \n",
    "    def caso3(self):\n",
    "        file = open(\"time_base_data.txt\", \"w\")\n",
    "        file.write(str(0.5)) \n",
    "        file.close()\n",
    "        \n",
    "    def caso4(self):\n",
    "        file = open(\"time_base_data.txt\", \"w\")\n",
    "        file.write(str(0.1))\n",
    "        \n",
    "    def caso5(self):\n",
    "        file = open(\"time_base_data.txt\", \"w\")\n",
    "        file.write(str(0.05))\n",
    "\n",
    "root = Tk()\n",
    "my_gui = MyFirstGUI(root)\n",
    "root.mainloop()"
   ]
  },
  {
   "cell_type": "code",
   "execution_count": 29,
   "metadata": {},
   "outputs": [
    {
     "name": "stdout",
     "output_type": "stream",
     "text": [
      "<class 'str'>\n"
     ]
    }
   ],
   "source": [
    "file2 = open(\"time_base_data.txt\",\"r\")\n",
    "file2_read = file2.read()\n",
    "print(type(file2_read))"
   ]
  },
  {
   "cell_type": "code",
   "execution_count": null,
   "metadata": {
    "collapsed": true
   },
   "outputs": [],
   "source": []
  }
 ],
 "metadata": {
  "kernelspec": {
   "display_name": "Python 3",
   "language": "python",
   "name": "python3"
  },
  "language_info": {
   "codemirror_mode": {
    "name": "ipython",
    "version": 3
   },
   "file_extension": ".py",
   "mimetype": "text/x-python",
   "name": "python",
   "nbconvert_exporter": "python",
   "pygments_lexer": "ipython3",
   "version": "3.5.2"
  }
 },
 "nbformat": 4,
 "nbformat_minor": 2
}
